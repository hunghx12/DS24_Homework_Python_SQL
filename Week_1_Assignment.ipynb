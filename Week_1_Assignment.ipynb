{
  "nbformat": 4,
  "nbformat_minor": 0,
  "metadata": {
    "colab": {
      "name": "Copy of Week 1 Assignment",
      "provenance": [],
      "collapsed_sections": [],
      "toc_visible": true
    },
    "kernelspec": {
      "name": "python3",
      "display_name": "Python 3"
    }
  },
  "cells": [
    {
      "cell_type": "markdown",
      "metadata": {
        "id": "K-UTH5d-XiQC",
        "colab_type": "text"
      },
      "source": [
        "#SQL\n"
      ]
    },
    {
      "cell_type": "markdown",
      "metadata": {
        "id": "WD0e6TnIW9Hu",
        "colab_type": "text"
      },
      "source": [
        "##Task 1\n",
        "Query all columns for a city in CITY with the ID 1661.\n",
        "\n",
        "Input Format\n",
        "\n",
        "The CITY table is described as follows: <br>\n",
        "<img src = \"https://s3.amazonaws.com/hr-challenge-images/8137/1449729804-f21d187d0f-CITY.jpg\">\n",
        "\n",
        "1.   List item\n",
        "2.   List item\n",
        "\n"
      ]
    },
    {
      "cell_type": "code",
      "metadata": {
        "id": "K4Bt1V9rW_KJ",
        "colab_type": "code",
        "colab": {
          "base_uri": "https://localhost:8080/",
          "height": 80
        },
        "outputId": "0f14134b-1346-4f8b-916f-0450a4036448"
      },
      "source": [
        "import sqlite3\n",
        "conn = sqlite3.connect('chinook.db')\n",
        "\n",
        "import pandas as pd\n",
        "\n",
        "createQuery = \"\"\"CREATE TABLE IF NOT EXISTS CITY (\n",
        "  ID NUMBER PRIMARY KEY,\n",
        "  NAME VARCHAR2(17),\n",
        "  COUNTRYCODE VARCHAR2(3),\n",
        "  DISTRICT VARCHAR2(20),\n",
        "  POPULATION NUMBER\n",
        ");\n",
        "\"\"\"\n",
        "cur = conn.cursor()\n",
        "cur.execute(createQuery)\n",
        "cur.close()\n",
        "\n",
        "insertQuery = \"\"\"INSERT INTO CITY(ID, NAME, COUNTRYCODE, DISTRICT, POPULATION) VALUES (1661, 'TUYEN QUANG', 'VN', 'TP TUYEN QUANG', '100000');\"\"\"\n",
        "cur = conn.cursor()\n",
        "cur.execute(insertQuery)\n",
        "cur.close()\n",
        "\n",
        "data = pd.read_sql_query('SELECT * FROM CITY WHERE ID = 1661;', conn)\n",
        "data.head()"
      ],
      "execution_count": 4,
      "outputs": [
        {
          "output_type": "execute_result",
          "data": {
            "text/html": [
              "<div>\n",
              "<style scoped>\n",
              "    .dataframe tbody tr th:only-of-type {\n",
              "        vertical-align: middle;\n",
              "    }\n",
              "\n",
              "    .dataframe tbody tr th {\n",
              "        vertical-align: top;\n",
              "    }\n",
              "\n",
              "    .dataframe thead th {\n",
              "        text-align: right;\n",
              "    }\n",
              "</style>\n",
              "<table border=\"1\" class=\"dataframe\">\n",
              "  <thead>\n",
              "    <tr style=\"text-align: right;\">\n",
              "      <th></th>\n",
              "      <th>ID</th>\n",
              "      <th>NAME</th>\n",
              "      <th>COUNTRYCODE</th>\n",
              "      <th>DISTRICT</th>\n",
              "      <th>POPULATION</th>\n",
              "    </tr>\n",
              "  </thead>\n",
              "  <tbody>\n",
              "    <tr>\n",
              "      <th>0</th>\n",
              "      <td>1661</td>\n",
              "      <td>TUYEN QUANG</td>\n",
              "      <td>VN</td>\n",
              "      <td>TP TUYEN QUANG</td>\n",
              "      <td>100000</td>\n",
              "    </tr>\n",
              "  </tbody>\n",
              "</table>\n",
              "</div>"
            ],
            "text/plain": [
              "     ID         NAME COUNTRYCODE        DISTRICT  POPULATION\n",
              "0  1661  TUYEN QUANG          VN  TP TUYEN QUANG      100000"
            ]
          },
          "metadata": {
            "tags": []
          },
          "execution_count": 4
        }
      ]
    },
    {
      "cell_type": "markdown",
      "metadata": {
        "id": "f6A9keYQXtfC",
        "colab_type": "text"
      },
      "source": [
        "##Task 2\n",
        "Query all columns for all American cities in CITY with populations larger than 100000. The CountryCode for America is USA.\n",
        "\n",
        "Input Format<br>\n",
        "<img src = \"https://s3.amazonaws.com/hr-challenge-images/8137/1449729804-f21d187d0f-CITY.jpg\">\n"
      ]
    },
    {
      "cell_type": "code",
      "metadata": {
        "id": "2AeLf7ooX7O-",
        "colab_type": "code",
        "colab": {
          "base_uri": "https://localhost:8080/",
          "height": 80
        },
        "outputId": "b9d61377-3886-4fee-93a4-3c3ec332e7bf"
      },
      "source": [
        "import sqlite3\n",
        "conn = sqlite3.connect('chinook.db')\n",
        "\n",
        "import pandas as pd\n",
        "\n",
        "createQuery = \"\"\"CREATE TABLE IF NOT EXISTS CITY (\n",
        "  ID NUMBER PRIMARY KEY,\n",
        "  NAME VARCHAR2(17),\n",
        "  COUNTRYCODE VARCHAR2(3),\n",
        "  DISTRICT VARCHAR2(20),\n",
        "  POPULATION NUMBER\n",
        ");\n",
        "\"\"\"\n",
        "cur = conn.cursor()\n",
        "cur.execute(createQuery)\n",
        "cur.close()\n",
        "\n",
        "insertQuery = \"\"\"INSERT INTO CITY(ID, NAME, COUNTRYCODE, DISTRICT, POPULATION) \n",
        "                VALUES (1234, 'California', 'USA', 'Los Angeles', '2000000');\"\"\"\n",
        "cur = conn.cursor()\n",
        "cur.execute(insertQuery)\n",
        "cur.close()\n",
        "\n",
        "data = pd.read_sql_query('SELECT * FROM CITY WHERE COUNTRYCODE = \\'USA\\' AND POPULATION > 100000;', conn)\n",
        "data.head()"
      ],
      "execution_count": 5,
      "outputs": [
        {
          "output_type": "execute_result",
          "data": {
            "text/html": [
              "<div>\n",
              "<style scoped>\n",
              "    .dataframe tbody tr th:only-of-type {\n",
              "        vertical-align: middle;\n",
              "    }\n",
              "\n",
              "    .dataframe tbody tr th {\n",
              "        vertical-align: top;\n",
              "    }\n",
              "\n",
              "    .dataframe thead th {\n",
              "        text-align: right;\n",
              "    }\n",
              "</style>\n",
              "<table border=\"1\" class=\"dataframe\">\n",
              "  <thead>\n",
              "    <tr style=\"text-align: right;\">\n",
              "      <th></th>\n",
              "      <th>ID</th>\n",
              "      <th>NAME</th>\n",
              "      <th>COUNTRYCODE</th>\n",
              "      <th>DISTRICT</th>\n",
              "      <th>POPULATION</th>\n",
              "    </tr>\n",
              "  </thead>\n",
              "  <tbody>\n",
              "    <tr>\n",
              "      <th>0</th>\n",
              "      <td>1234</td>\n",
              "      <td>California</td>\n",
              "      <td>USA</td>\n",
              "      <td>Los Angeles</td>\n",
              "      <td>2000000</td>\n",
              "    </tr>\n",
              "  </tbody>\n",
              "</table>\n",
              "</div>"
            ],
            "text/plain": [
              "     ID        NAME COUNTRYCODE     DISTRICT  POPULATION\n",
              "0  1234  California         USA  Los Angeles     2000000"
            ]
          },
          "metadata": {
            "tags": []
          },
          "execution_count": 5
        }
      ]
    },
    {
      "cell_type": "markdown",
      "metadata": {
        "id": "r69LByLtYCY0",
        "colab_type": "text"
      },
      "source": [
        "##Task 3\n",
        "Query all attributes of every Japanese city in the CITY table. The COUNTRYCODE for Japan is JPN.\n",
        "\n",
        "Input Format:<br>\n",
        "<img src = \"https://s3.amazonaws.com/hr-challenge-images/8137/1449729804-f21d187d0f-CITY.jpg\">"
      ]
    },
    {
      "cell_type": "code",
      "metadata": {
        "id": "olzcFs4-YVm6",
        "colab_type": "code",
        "colab": {
          "base_uri": "https://localhost:8080/",
          "height": 80
        },
        "outputId": "e968c081-b1ec-4a7a-d004-7015593168ea"
      },
      "source": [
        "import sqlite3\n",
        "conn = sqlite3.connect('chinook.db')\n",
        "\n",
        "import pandas as pd\n",
        "\n",
        "createQuery = \"\"\"CREATE TABLE IF NOT EXISTS CITY (\n",
        "  ID NUMBER PRIMARY KEY,\n",
        "  NAME VARCHAR2(17),\n",
        "  COUNTRYCODE VARCHAR2(3),\n",
        "  DISTRICT VARCHAR2(20),\n",
        "  POPULATION NUMBER\n",
        ");\n",
        "\"\"\"\n",
        "cur = conn.cursor()\n",
        "cur.execute(createQuery)\n",
        "cur.close()\n",
        "\n",
        "insertQuery = \"\"\"INSERT INTO CITY(ID, NAME, COUNTRYCODE, DISTRICT, POPULATION) \n",
        "                VALUES (12345, 'Tokyo', 'JPN', 'Tokyo', '12345678');\"\"\"\n",
        "cur = conn.cursor()\n",
        "cur.execute(insertQuery)\n",
        "cur.close()\n",
        "\n",
        "data = pd.read_sql_query('SELECT * FROM CITY WHERE COUNTRYCODE = \\'JPN\\';', conn)\n",
        "data.head()"
      ],
      "execution_count": 6,
      "outputs": [
        {
          "output_type": "execute_result",
          "data": {
            "text/html": [
              "<div>\n",
              "<style scoped>\n",
              "    .dataframe tbody tr th:only-of-type {\n",
              "        vertical-align: middle;\n",
              "    }\n",
              "\n",
              "    .dataframe tbody tr th {\n",
              "        vertical-align: top;\n",
              "    }\n",
              "\n",
              "    .dataframe thead th {\n",
              "        text-align: right;\n",
              "    }\n",
              "</style>\n",
              "<table border=\"1\" class=\"dataframe\">\n",
              "  <thead>\n",
              "    <tr style=\"text-align: right;\">\n",
              "      <th></th>\n",
              "      <th>ID</th>\n",
              "      <th>NAME</th>\n",
              "      <th>COUNTRYCODE</th>\n",
              "      <th>DISTRICT</th>\n",
              "      <th>POPULATION</th>\n",
              "    </tr>\n",
              "  </thead>\n",
              "  <tbody>\n",
              "    <tr>\n",
              "      <th>0</th>\n",
              "      <td>12345</td>\n",
              "      <td>Tokyo</td>\n",
              "      <td>JPN</td>\n",
              "      <td>Tokyo</td>\n",
              "      <td>12345678</td>\n",
              "    </tr>\n",
              "  </tbody>\n",
              "</table>\n",
              "</div>"
            ],
            "text/plain": [
              "      ID   NAME COUNTRYCODE DISTRICT  POPULATION\n",
              "0  12345  Tokyo         JPN    Tokyo    12345678"
            ]
          },
          "metadata": {
            "tags": []
          },
          "execution_count": 6
        }
      ]
    },
    {
      "cell_type": "markdown",
      "metadata": {
        "id": "kNb_l0BAYqQY",
        "colab_type": "text"
      },
      "source": [
        "##Task 4\n",
        "Query the names of all the Japanese cities in the CITY table. The COUNTRYCODE for Japan is JPN.\n",
        "\n",
        "Input Format<br>\n",
        "<img src = \"https://s3.amazonaws.com/hr-challenge-images/8137/1449729804-f21d187d0f-CITY.jpg\">\n"
      ]
    },
    {
      "cell_type": "code",
      "metadata": {
        "id": "SGkB1ac5Y8C2",
        "colab_type": "code",
        "colab": {
          "base_uri": "https://localhost:8080/",
          "height": 80
        },
        "outputId": "81db5c77-fdee-4f0a-933e-399a1ff2e8a5"
      },
      "source": [
        "import sqlite3\n",
        "conn = sqlite3.connect('chinook.db')\n",
        "\n",
        "import pandas as pd\n",
        "\n",
        "createQuery = \"\"\"CREATE TABLE IF NOT EXISTS CITY (\n",
        "  ID NUMBER PRIMARY KEY,\n",
        "  NAME VARCHAR2(17),\n",
        "  COUNTRYCODE VARCHAR2(3),\n",
        "  DISTRICT VARCHAR2(20),\n",
        "  POPULATION NUMBER\n",
        ");\n",
        "\"\"\"\n",
        "cur = conn.cursor()\n",
        "cur.execute(createQuery)\n",
        "cur.close()\n",
        "\n",
        "insertQuery = \"\"\"INSERT INTO CITY(ID, NAME, COUNTRYCODE, DISTRICT, POPULATION) \n",
        "                VALUES (12345, 'Tokyo', 'JPN', 'Tokyo', '12345678');\"\"\"\n",
        "cur = conn.cursor()\n",
        "cur.execute(insertQuery)\n",
        "cur.close()\n",
        "\n",
        "data = pd.read_sql_query('SELECT NAME FROM CITY WHERE COUNTRYCODE = \\'JPN\\';', conn)\n",
        "data.head()"
      ],
      "execution_count": 7,
      "outputs": [
        {
          "output_type": "execute_result",
          "data": {
            "text/html": [
              "<div>\n",
              "<style scoped>\n",
              "    .dataframe tbody tr th:only-of-type {\n",
              "        vertical-align: middle;\n",
              "    }\n",
              "\n",
              "    .dataframe tbody tr th {\n",
              "        vertical-align: top;\n",
              "    }\n",
              "\n",
              "    .dataframe thead th {\n",
              "        text-align: right;\n",
              "    }\n",
              "</style>\n",
              "<table border=\"1\" class=\"dataframe\">\n",
              "  <thead>\n",
              "    <tr style=\"text-align: right;\">\n",
              "      <th></th>\n",
              "      <th>NAME</th>\n",
              "    </tr>\n",
              "  </thead>\n",
              "  <tbody>\n",
              "    <tr>\n",
              "      <th>0</th>\n",
              "      <td>Tokyo</td>\n",
              "    </tr>\n",
              "  </tbody>\n",
              "</table>\n",
              "</div>"
            ],
            "text/plain": [
              "    NAME\n",
              "0  Tokyo"
            ]
          },
          "metadata": {
            "tags": []
          },
          "execution_count": 7
        }
      ]
    },
    {
      "cell_type": "markdown",
      "metadata": {
        "id": "G_YzuI-hZBeL",
        "colab_type": "text"
      },
      "source": [
        "##Task 5\n",
        "Query a list of CITY and STATE from the STATION table.\n",
        "\n",
        "Input Format\n",
        "\n",
        "The STATION table is described as follows:<br>\n",
        "<img src = 'https://s3.amazonaws.com/hr-challenge-images/9336/1449345840-5f0a551030-Station.jpg'>"
      ]
    },
    {
      "cell_type": "code",
      "metadata": {
        "id": "1WxKBKUOZNUQ",
        "colab_type": "code",
        "colab": {
          "base_uri": "https://localhost:8080/",
          "height": 80
        },
        "outputId": "cf3d99f6-3f69-403e-a67e-1606a16a9a40"
      },
      "source": [
        "import sqlite3\n",
        "conn = sqlite3.connect('chinook.db')\n",
        "\n",
        "import pandas as pd\n",
        "\n",
        "createQuery = \"\"\"CREATE TABLE IF NOT EXISTS CITY (\n",
        "  ID NUMBER PRIMARY KEY,\n",
        "  NAME VARCHAR2(17),\n",
        "  COUNTRYCODE VARCHAR2(3),\n",
        "  DISTRICT VARCHAR2(20),\n",
        "  POPULATION NUMBER\n",
        ");\n",
        "\"\"\"\n",
        "cur = conn.cursor()\n",
        "cur.execute(createQuery)\n",
        "cur.close()\n",
        "\n",
        "createStationQuery = \"\"\"CREATE TABLE IF NOT EXISTS STATION (\n",
        "  ID NUMBER PRIMARY KEY,\n",
        "  CITY VARCHAR2(21),\n",
        "  STATE VARCHAR2(2),\n",
        "  LAT_N NUMBER,\n",
        "  LONG_W NUMBER\n",
        ");\n",
        "\"\"\"\n",
        "cur = conn.cursor()\n",
        "cur.execute(createStationQuery)\n",
        "cur.close()\n",
        "\n",
        "insertQuery = \"\"\"INSERT INTO STATION(ID, CITY, STATE, LAT_N, LONG_W) \n",
        "                VALUES (12, 'Tokyo', 'TOKYO', 12345, 54321);\"\"\"\n",
        "cur = conn.cursor()\n",
        "cur.execute(insertQuery)\n",
        "cur.close()\n",
        "\n",
        "data = pd.read_sql_query('SELECT CITY, STATE FROM STATION;', conn)\n",
        "data.head()"
      ],
      "execution_count": 8,
      "outputs": [
        {
          "output_type": "execute_result",
          "data": {
            "text/html": [
              "<div>\n",
              "<style scoped>\n",
              "    .dataframe tbody tr th:only-of-type {\n",
              "        vertical-align: middle;\n",
              "    }\n",
              "\n",
              "    .dataframe tbody tr th {\n",
              "        vertical-align: top;\n",
              "    }\n",
              "\n",
              "    .dataframe thead th {\n",
              "        text-align: right;\n",
              "    }\n",
              "</style>\n",
              "<table border=\"1\" class=\"dataframe\">\n",
              "  <thead>\n",
              "    <tr style=\"text-align: right;\">\n",
              "      <th></th>\n",
              "      <th>CITY</th>\n",
              "      <th>STATE</th>\n",
              "    </tr>\n",
              "  </thead>\n",
              "  <tbody>\n",
              "    <tr>\n",
              "      <th>0</th>\n",
              "      <td>Tokyo</td>\n",
              "      <td>TOKYO</td>\n",
              "    </tr>\n",
              "  </tbody>\n",
              "</table>\n",
              "</div>"
            ],
            "text/plain": [
              "    CITY  STATE\n",
              "0  Tokyo  TOKYO"
            ]
          },
          "metadata": {
            "tags": []
          },
          "execution_count": 8
        }
      ]
    },
    {
      "cell_type": "markdown",
      "metadata": {
        "id": "OqMKxr4hZSBn",
        "colab_type": "text"
      },
      "source": [
        "##Task 6\n",
        "Query a list of CITY names from STATION with even ID numbers only. You may print the results in any order, but must exclude duplicates from your answer.\n",
        "\n",
        "Input Format\n",
        "\n",
        "The STATION table is described as follows:<br>\n",
        "<img src =\"https://s3.amazonaws.com/hr-challenge-images/9336/1449345840-5f0a551030-Station.jpg\">\n"
      ]
    },
    {
      "cell_type": "code",
      "metadata": {
        "id": "OOF-_k34Zg3U",
        "colab_type": "code",
        "colab": {
          "base_uri": "https://localhost:8080/",
          "height": 111
        },
        "outputId": "d4b0b0fe-64a5-4dfb-ce76-f5083a884eb2"
      },
      "source": [
        "import sqlite3\n",
        "conn = sqlite3.connect('chinook.db')\n",
        "\n",
        "import pandas as pd\n",
        "\n",
        "createQuery = \"\"\"CREATE TABLE IF NOT EXISTS CITY (\n",
        "  ID NUMBER PRIMARY KEY,\n",
        "  NAME VARCHAR2(17),\n",
        "  COUNTRYCODE VARCHAR2(3),\n",
        "  DISTRICT VARCHAR2(20),\n",
        "  POPULATION NUMBER\n",
        ");\n",
        "\"\"\"\n",
        "cur = conn.cursor()\n",
        "cur.execute(createQuery)\n",
        "cur.close()\n",
        "\n",
        "createStationQuery = \"\"\"CREATE TABLE IF NOT EXISTS STATION (\n",
        "  ID NUMBER PRIMARY KEY,\n",
        "  CITY VARCHAR2(21),\n",
        "  STATE VARCHAR2(2),\n",
        "  LAT_N NUMBER,\n",
        "  LONG_W NUMBER\n",
        ");\n",
        "\"\"\"\n",
        "cur = conn.cursor()\n",
        "cur.execute(createStationQuery)\n",
        "cur.close()\n",
        "\n",
        "insertQuery = \"\"\"INSERT INTO STATION(ID, CITY, STATE, LAT_N, LONG_W) \n",
        "                VALUES (12, 'Tokyo', 'TOKYO', 12345, 54321), \n",
        "                (13, 'Kyoto', 'Kyoto', 12345, 54321),\n",
        "                (14, 'Tokyo', 'TOKYO', 12345, 54321);\"\"\"\n",
        "cur = conn.cursor()\n",
        "cur.execute(insertQuery)\n",
        "cur.close()\n",
        "\n",
        "data = pd.read_sql_query('SELECT DISTINCT CITY FROM STATION WHERE ID % 2 = 0;', conn)\n",
        "data.head()"
      ],
      "execution_count": 11,
      "outputs": [
        {
          "output_type": "execute_result",
          "data": {
            "text/html": [
              "<div>\n",
              "<style scoped>\n",
              "    .dataframe tbody tr th:only-of-type {\n",
              "        vertical-align: middle;\n",
              "    }\n",
              "\n",
              "    .dataframe tbody tr th {\n",
              "        vertical-align: top;\n",
              "    }\n",
              "\n",
              "    .dataframe thead th {\n",
              "        text-align: right;\n",
              "    }\n",
              "</style>\n",
              "<table border=\"1\" class=\"dataframe\">\n",
              "  <thead>\n",
              "    <tr style=\"text-align: right;\">\n",
              "      <th></th>\n",
              "      <th>CITY</th>\n",
              "    </tr>\n",
              "  </thead>\n",
              "  <tbody>\n",
              "    <tr>\n",
              "      <th>0</th>\n",
              "      <td>Tokyo</td>\n",
              "    </tr>\n",
              "    <tr>\n",
              "      <th>1</th>\n",
              "      <td>Tokyo</td>\n",
              "    </tr>\n",
              "  </tbody>\n",
              "</table>\n",
              "</div>"
            ],
            "text/plain": [
              "    CITY\n",
              "0  Tokyo\n",
              "1  Tokyo"
            ]
          },
          "metadata": {
            "tags": []
          },
          "execution_count": 11
        }
      ]
    },
    {
      "cell_type": "markdown",
      "metadata": {
        "id": "ZcN5Ns0fZnT9",
        "colab_type": "text"
      },
      "source": [
        "Let  be the number of CITY entries in STATION, and let  be the number of distinct CITY names in STATION; query the value of  from STATION. In other words, find the difference between the total number of CITY entries in the table and the number of distinct CITY entries in the table.\n",
        "\n",
        "Input Format\n",
        "\n",
        "The STATION table is described as follows:<br>\n",
        "<img src = \"https://s3.amazonaws.com/hr-challenge-images/9336/1449345840-5f0a551030-Station.jpg\"><br>\n",
        "where LAT_N is the northern latitude and LONG_W is the western longitude."
      ]
    },
    {
      "cell_type": "code",
      "metadata": {
        "id": "J8Hcjsl6lVW8",
        "colab_type": "code",
        "colab": {
          "base_uri": "https://localhost:8080/",
          "height": 80
        },
        "outputId": "051e2a31-20a8-485f-c068-29af83577366"
      },
      "source": [
        "import sqlite3\n",
        "conn = sqlite3.connect('chinook.db')\n",
        "\n",
        "import pandas as pd\n",
        "\n",
        "createQuery = \"\"\"CREATE TABLE IF NOT EXISTS CITY (\n",
        "  ID NUMBER PRIMARY KEY,\n",
        "  NAME VARCHAR2(17),\n",
        "  COUNTRYCODE VARCHAR2(3),\n",
        "  DISTRICT VARCHAR2(20),\n",
        "  POPULATION NUMBER\n",
        ");\n",
        "\"\"\"\n",
        "cur = conn.cursor()\n",
        "cur.execute(createQuery)\n",
        "cur.close()\n",
        "\n",
        "createStationQuery = \"\"\"CREATE TABLE IF NOT EXISTS STATION (\n",
        "  ID NUMBER PRIMARY KEY,\n",
        "  CITY VARCHAR2(21),\n",
        "  STATE VARCHAR2(2),\n",
        "  LAT_N NUMBER,\n",
        "  LONG_W NUMBER\n",
        ");\n",
        "\"\"\"\n",
        "cur = conn.cursor()\n",
        "cur.execute(createStationQuery)\n",
        "cur.close()\n",
        "\n",
        "insertQuery = \"\"\"INSERT INTO STATION(ID, CITY, STATE, LAT_N, LONG_W) \n",
        "                VALUES (12, 'Tokyo', 'TOKYO', 12345, 54321), \n",
        "                (13, 'Kyoto', 'Kyoto', 12345, 54321),\n",
        "                (14, 'Tokyo', 'TOKYO', 12345, 54321);\"\"\"\n",
        "cur = conn.cursor()\n",
        "cur.execute(insertQuery)\n",
        "cur.close()\n",
        "\n",
        "data = pd.read_sql_query('SELECT ((SELECT COUNT(CITY) FROM STATION) - (SELECT COUNT(DISTINCT CITY) FROM STATION)) as diff;', conn)\n",
        "data.head()"
      ],
      "execution_count": 15,
      "outputs": [
        {
          "output_type": "execute_result",
          "data": {
            "text/html": [
              "<div>\n",
              "<style scoped>\n",
              "    .dataframe tbody tr th:only-of-type {\n",
              "        vertical-align: middle;\n",
              "    }\n",
              "\n",
              "    .dataframe tbody tr th {\n",
              "        vertical-align: top;\n",
              "    }\n",
              "\n",
              "    .dataframe thead th {\n",
              "        text-align: right;\n",
              "    }\n",
              "</style>\n",
              "<table border=\"1\" class=\"dataframe\">\n",
              "  <thead>\n",
              "    <tr style=\"text-align: right;\">\n",
              "      <th></th>\n",
              "      <th>diff</th>\n",
              "    </tr>\n",
              "  </thead>\n",
              "  <tbody>\n",
              "    <tr>\n",
              "      <th>0</th>\n",
              "      <td>1</td>\n",
              "    </tr>\n",
              "  </tbody>\n",
              "</table>\n",
              "</div>"
            ],
            "text/plain": [
              "   diff\n",
              "0     1"
            ]
          },
          "metadata": {
            "tags": []
          },
          "execution_count": 15
        }
      ]
    },
    {
      "cell_type": "markdown",
      "metadata": {
        "id": "8fWTW_yflyCC",
        "colab_type": "text"
      },
      "source": [
        "##Task 7\n",
        "Query the two cities in STATION with the shortest and longest CITY names, as well as their respective lengths (i.e.: number of characters in the name). If there is more than one smallest or largest city, choose the one that comes first when ordered alphabetically.\n",
        "\n",
        "Input Format\n",
        "\n",
        "The STATION table is described as follows:<br>\n",
        "  <img src = \"https://s3.amazonaws.com/hr-challenge-images/9336/1449345840-5f0a551030-Station.jpg\">\n",
        "  "
      ]
    },
    {
      "cell_type": "code",
      "metadata": {
        "id": "zPqGViBgl4mL",
        "colab_type": "code",
        "colab": {
          "base_uri": "https://localhost:8080/"
        },
        "outputId": "002ccde3-437d-441e-9385-0ee54fc0551c"
      },
      "source": [
        "import sqlite3\n",
        "conn = sqlite3.connect('chinook.db')\n",
        "\n",
        "import pandas as pd\n",
        "\n",
        "createQuery = \"\"\"CREATE TABLE IF NOT EXISTS CITY (\n",
        "  ID NUMBER PRIMARY KEY,\n",
        "  NAME VARCHAR2(17),\n",
        "  COUNTRYCODE VARCHAR2(3),\n",
        "  DISTRICT VARCHAR2(20),\n",
        "  POPULATION NUMBER\n",
        ");\n",
        "\"\"\"\n",
        "cur = conn.cursor()\n",
        "cur.execute(createQuery)\n",
        "cur.close()\n",
        "\n",
        "createStationQuery = \"\"\"CREATE TABLE IF NOT EXISTS STATION (\n",
        "  ID NUMBER PRIMARY KEY,\n",
        "  CITY VARCHAR2(21),\n",
        "  STATE VARCHAR2(2),\n",
        "  LAT_N NUMBER,\n",
        "  LONG_W NUMBER\n",
        ");\n",
        "\"\"\"\n",
        "cur = conn.cursor()\n",
        "cur.execute(createStationQuery)\n",
        "cur.close()\n",
        "\n",
        "insertQuery = \"\"\"INSERT INTO STATION(ID, CITY, STATE, LAT_N, LONG_W) \n",
        "                VALUES (12, 'Tokyo', 'TOKYO', 12345, 54321), \n",
        "                (13, 'Kyoto', 'Kyoto', 12345, 54321),\n",
        "                (14, 'Tokyo', 'TOKYO', 12345, 54321),\n",
        "                (15, 'Thanh pho Ho Chi Minh', 'Thanh pho Ho Chi Minh', 12345, 54321);\"\"\"\n",
        "cur = conn.cursor()\n",
        "cur.execute(insertQuery)\n",
        "cur.close()\n",
        "\n",
        "data = pd.read_sql_query('(SELECT TOP 1 CITY,LEN(CITY) LengthOfCity FROM STATION ORDER BY LengthOfCity ASC, CITY ASC) UNION (SELECT TOP 1 CITY,LEN(CITY) LengthOfCity FROM STATION ORDER BY LengthOfCity DESC, CITY ASC);', conn)\n",
        "data.head()"
      ],
      "execution_count": 16,
      "outputs": [
        {
          "output_type": "error",
          "ename": "DatabaseError",
          "evalue": "ignored",
          "traceback": [
            "\u001b[0;31m---------------------------------------------------------------------------\u001b[0m",
            "\u001b[0;31mOperationalError\u001b[0m                          Traceback (most recent call last)",
            "\u001b[0;32m/usr/local/lib/python3.6/dist-packages/pandas/io/sql.py\u001b[0m in \u001b[0;36mexecute\u001b[0;34m(self, *args, **kwargs)\u001b[0m\n\u001b[1;32m   1585\u001b[0m         \u001b[0;32mtry\u001b[0m\u001b[0;34m:\u001b[0m\u001b[0;34m\u001b[0m\u001b[0;34m\u001b[0m\u001b[0m\n\u001b[0;32m-> 1586\u001b[0;31m             \u001b[0mcur\u001b[0m\u001b[0;34m.\u001b[0m\u001b[0mexecute\u001b[0m\u001b[0;34m(\u001b[0m\u001b[0;34m*\u001b[0m\u001b[0margs\u001b[0m\u001b[0;34m,\u001b[0m \u001b[0;34m**\u001b[0m\u001b[0mkwargs\u001b[0m\u001b[0;34m)\u001b[0m\u001b[0;34m\u001b[0m\u001b[0;34m\u001b[0m\u001b[0m\n\u001b[0m\u001b[1;32m   1587\u001b[0m             \u001b[0;32mreturn\u001b[0m \u001b[0mcur\u001b[0m\u001b[0;34m\u001b[0m\u001b[0;34m\u001b[0m\u001b[0m\n",
            "\u001b[0;31mOperationalError\u001b[0m: near \"1\": syntax error",
            "\nThe above exception was the direct cause of the following exception:\n",
            "\u001b[0;31mDatabaseError\u001b[0m                             Traceback (most recent call last)",
            "\u001b[0;32m<ipython-input-16-bbb851fa75a5>\u001b[0m in \u001b[0;36m<module>\u001b[0;34m()\u001b[0m\n\u001b[1;32m     37\u001b[0m \u001b[0mcur\u001b[0m\u001b[0;34m.\u001b[0m\u001b[0mclose\u001b[0m\u001b[0;34m(\u001b[0m\u001b[0;34m)\u001b[0m\u001b[0;34m\u001b[0m\u001b[0;34m\u001b[0m\u001b[0m\n\u001b[1;32m     38\u001b[0m \u001b[0;34m\u001b[0m\u001b[0m\n\u001b[0;32m---> 39\u001b[0;31m \u001b[0mdata\u001b[0m \u001b[0;34m=\u001b[0m \u001b[0mpd\u001b[0m\u001b[0;34m.\u001b[0m\u001b[0mread_sql_query\u001b[0m\u001b[0;34m(\u001b[0m\u001b[0;34m'select TOP 1 CITY,LEN(CITY) LengthOfCity FROM STATION ORDER BY LengthOfCity ASC, CITY ASC;'\u001b[0m\u001b[0;34m,\u001b[0m \u001b[0mconn\u001b[0m\u001b[0;34m)\u001b[0m\u001b[0;34m\u001b[0m\u001b[0;34m\u001b[0m\u001b[0m\n\u001b[0m\u001b[1;32m     40\u001b[0m \u001b[0mdata\u001b[0m\u001b[0;34m.\u001b[0m\u001b[0mhead\u001b[0m\u001b[0;34m(\u001b[0m\u001b[0;34m)\u001b[0m\u001b[0;34m\u001b[0m\u001b[0;34m\u001b[0m\u001b[0m\n",
            "\u001b[0;32m/usr/local/lib/python3.6/dist-packages/pandas/io/sql.py\u001b[0m in \u001b[0;36mread_sql_query\u001b[0;34m(sql, con, index_col, coerce_float, params, parse_dates, chunksize)\u001b[0m\n\u001b[1;32m    330\u001b[0m         \u001b[0mcoerce_float\u001b[0m\u001b[0;34m=\u001b[0m\u001b[0mcoerce_float\u001b[0m\u001b[0;34m,\u001b[0m\u001b[0;34m\u001b[0m\u001b[0;34m\u001b[0m\u001b[0m\n\u001b[1;32m    331\u001b[0m         \u001b[0mparse_dates\u001b[0m\u001b[0;34m=\u001b[0m\u001b[0mparse_dates\u001b[0m\u001b[0;34m,\u001b[0m\u001b[0;34m\u001b[0m\u001b[0;34m\u001b[0m\u001b[0m\n\u001b[0;32m--> 332\u001b[0;31m         \u001b[0mchunksize\u001b[0m\u001b[0;34m=\u001b[0m\u001b[0mchunksize\u001b[0m\u001b[0;34m,\u001b[0m\u001b[0;34m\u001b[0m\u001b[0;34m\u001b[0m\u001b[0m\n\u001b[0m\u001b[1;32m    333\u001b[0m     )\n\u001b[1;32m    334\u001b[0m \u001b[0;34m\u001b[0m\u001b[0m\n",
            "\u001b[0;32m/usr/local/lib/python3.6/dist-packages/pandas/io/sql.py\u001b[0m in \u001b[0;36mread_query\u001b[0;34m(self, sql, index_col, coerce_float, params, parse_dates, chunksize)\u001b[0m\n\u001b[1;32m   1631\u001b[0m \u001b[0;34m\u001b[0m\u001b[0m\n\u001b[1;32m   1632\u001b[0m         \u001b[0margs\u001b[0m \u001b[0;34m=\u001b[0m \u001b[0m_convert_params\u001b[0m\u001b[0;34m(\u001b[0m\u001b[0msql\u001b[0m\u001b[0;34m,\u001b[0m \u001b[0mparams\u001b[0m\u001b[0;34m)\u001b[0m\u001b[0;34m\u001b[0m\u001b[0;34m\u001b[0m\u001b[0m\n\u001b[0;32m-> 1633\u001b[0;31m         \u001b[0mcursor\u001b[0m \u001b[0;34m=\u001b[0m \u001b[0mself\u001b[0m\u001b[0;34m.\u001b[0m\u001b[0mexecute\u001b[0m\u001b[0;34m(\u001b[0m\u001b[0;34m*\u001b[0m\u001b[0margs\u001b[0m\u001b[0;34m)\u001b[0m\u001b[0;34m\u001b[0m\u001b[0;34m\u001b[0m\u001b[0m\n\u001b[0m\u001b[1;32m   1634\u001b[0m         \u001b[0mcolumns\u001b[0m \u001b[0;34m=\u001b[0m \u001b[0;34m[\u001b[0m\u001b[0mcol_desc\u001b[0m\u001b[0;34m[\u001b[0m\u001b[0;36m0\u001b[0m\u001b[0;34m]\u001b[0m \u001b[0;32mfor\u001b[0m \u001b[0mcol_desc\u001b[0m \u001b[0;32min\u001b[0m \u001b[0mcursor\u001b[0m\u001b[0;34m.\u001b[0m\u001b[0mdescription\u001b[0m\u001b[0;34m]\u001b[0m\u001b[0;34m\u001b[0m\u001b[0;34m\u001b[0m\u001b[0m\n\u001b[1;32m   1635\u001b[0m \u001b[0;34m\u001b[0m\u001b[0m\n",
            "\u001b[0;32m/usr/local/lib/python3.6/dist-packages/pandas/io/sql.py\u001b[0m in \u001b[0;36mexecute\u001b[0;34m(self, *args, **kwargs)\u001b[0m\n\u001b[1;32m   1596\u001b[0m \u001b[0;34m\u001b[0m\u001b[0m\n\u001b[1;32m   1597\u001b[0m             \u001b[0mex\u001b[0m \u001b[0;34m=\u001b[0m \u001b[0mDatabaseError\u001b[0m\u001b[0;34m(\u001b[0m\u001b[0;34mf\"Execution failed on sql '{args[0]}': {exc}\"\u001b[0m\u001b[0;34m)\u001b[0m\u001b[0;34m\u001b[0m\u001b[0;34m\u001b[0m\u001b[0m\n\u001b[0;32m-> 1598\u001b[0;31m             \u001b[0;32mraise\u001b[0m \u001b[0mex\u001b[0m \u001b[0;32mfrom\u001b[0m \u001b[0mexc\u001b[0m\u001b[0;34m\u001b[0m\u001b[0;34m\u001b[0m\u001b[0m\n\u001b[0m\u001b[1;32m   1599\u001b[0m \u001b[0;34m\u001b[0m\u001b[0m\n\u001b[1;32m   1600\u001b[0m     \u001b[0;34m@\u001b[0m\u001b[0mstaticmethod\u001b[0m\u001b[0;34m\u001b[0m\u001b[0;34m\u001b[0m\u001b[0m\n",
            "\u001b[0;31mDatabaseError\u001b[0m: Execution failed on sql 'select TOP 1 CITY,LEN(CITY) LengthOfCity FROM STATION ORDER BY LengthOfCity ASC, CITY ASC;': near \"1\": syntax error"
          ]
        }
      ]
    },
    {
      "cell_type": "markdown",
      "metadata": {
        "id": "34DxPDy5l9N2",
        "colab_type": "text"
      },
      "source": [
        "##Task 8\n",
        "Query the list of CITY names starting with vowels (i.e., a, e, i, o, or u) from STATION. Your result cannot contain duplicates.\n",
        "\n",
        "Input Format\n",
        "\n",
        "The STATION table is described as follows: <br>\n",
        "<img src = \"https://s3.amazonaws.com/hr-challenge-images/9336/1449345840-5f0a551030-Station.jpg\" >\n"
      ]
    },
    {
      "cell_type": "code",
      "metadata": {
        "id": "RWRar3_emQ7Y",
        "colab_type": "code",
        "colab": {
          "base_uri": "https://localhost:8080/",
          "height": 80
        },
        "outputId": "4ec4a400-fb41-4049-9fbd-ddacba6e78cd"
      },
      "source": [
        "import sqlite3\n",
        "conn = sqlite3.connect('chinook.db')\n",
        "\n",
        "import pandas as pd\n",
        "\n",
        "createQuery = \"\"\"CREATE TABLE IF NOT EXISTS CITY (\n",
        "  ID NUMBER PRIMARY KEY,\n",
        "  NAME VARCHAR2(17),\n",
        "  COUNTRYCODE VARCHAR2(3),\n",
        "  DISTRICT VARCHAR2(20),\n",
        "  POPULATION NUMBER\n",
        ");\n",
        "\"\"\"\n",
        "cur = conn.cursor()\n",
        "cur.execute(createQuery)\n",
        "cur.close()\n",
        "\n",
        "createStationQuery = \"\"\"CREATE TABLE IF NOT EXISTS STATION (\n",
        "  ID NUMBER PRIMARY KEY,\n",
        "  CITY VARCHAR2(21),\n",
        "  STATE VARCHAR2(2),\n",
        "  LAT_N NUMBER,\n",
        "  LONG_W NUMBER\n",
        ");\n",
        "\"\"\"\n",
        "cur = conn.cursor()\n",
        "cur.execute(createStationQuery)\n",
        "cur.close()\n",
        "\n",
        "insertQuery = \"\"\"INSERT INTO STATION(ID, CITY, STATE, LAT_N, LONG_W) \n",
        "                VALUES (12, 'Tokyo', 'TOKYO', 12345, 54321), \n",
        "                (13, 'Kyoto', 'Kyoto', 12345, 54321),\n",
        "                (14, 'Tokyo', 'TOKYO', 12345, 54321),\n",
        "                (157, 'Akito', 'Akito', 12345, 54321);\"\"\"\n",
        "cur = conn.cursor()\n",
        "cur.execute(insertQuery)\n",
        "cur.close()\n",
        "\n",
        "data = pd.read_sql_query(\"\"\"SELECT DISTINCT CITY from STATION \n",
        "WHERE  (CITY LIKE 'a%'\n",
        "        OR CITY LIKE 'e%'\n",
        "        OR CITY LIKE 'i%' \n",
        "        OR CITY LIKE 'o%'\n",
        "        OR CITY LIKE 'u%');\"\"\", conn)\n",
        "data.head()"
      ],
      "execution_count": 26,
      "outputs": [
        {
          "output_type": "execute_result",
          "data": {
            "text/html": [
              "<div>\n",
              "<style scoped>\n",
              "    .dataframe tbody tr th:only-of-type {\n",
              "        vertical-align: middle;\n",
              "    }\n",
              "\n",
              "    .dataframe tbody tr th {\n",
              "        vertical-align: top;\n",
              "    }\n",
              "\n",
              "    .dataframe thead th {\n",
              "        text-align: right;\n",
              "    }\n",
              "</style>\n",
              "<table border=\"1\" class=\"dataframe\">\n",
              "  <thead>\n",
              "    <tr style=\"text-align: right;\">\n",
              "      <th></th>\n",
              "      <th>CITY</th>\n",
              "    </tr>\n",
              "  </thead>\n",
              "  <tbody>\n",
              "    <tr>\n",
              "      <th>0</th>\n",
              "      <td>Akito</td>\n",
              "    </tr>\n",
              "  </tbody>\n",
              "</table>\n",
              "</div>"
            ],
            "text/plain": [
              "    CITY\n",
              "0  Akito"
            ]
          },
          "metadata": {
            "tags": []
          },
          "execution_count": 26
        }
      ]
    },
    {
      "cell_type": "markdown",
      "metadata": {
        "id": "E1WTjlFPmTfp",
        "colab_type": "text"
      },
      "source": [
        "##Task 9\n",
        "Query the list of CITY names ending with vowels (a, e, i, o, u) from STATION. Your result cannot contain duplicates.\n",
        "\n",
        "Input Format\n",
        "\n",
        "The STATION table is described as follows:<br>\n",
        "<img src =\"https://s3.amazonaws.com/hr-challenge-images/9336/1449345840-5f0a551030-Station.jpg\">\n"
      ]
    },
    {
      "cell_type": "code",
      "metadata": {
        "id": "wQ7n53Lwmp1Z",
        "colab_type": "code",
        "colab": {
          "base_uri": "https://localhost:8080/",
          "height": 142
        },
        "outputId": "e9ec8f95-0881-48dd-ffea-326f7d68a64c"
      },
      "source": [
        "import sqlite3\n",
        "conn = sqlite3.connect('chinook.db')\n",
        "\n",
        "import pandas as pd\n",
        "\n",
        "createQuery = \"\"\"CREATE TABLE IF NOT EXISTS CITY (\n",
        "  ID NUMBER PRIMARY KEY,\n",
        "  NAME VARCHAR2(17),\n",
        "  COUNTRYCODE VARCHAR2(3),\n",
        "  DISTRICT VARCHAR2(20),\n",
        "  POPULATION NUMBER\n",
        ");\n",
        "\"\"\"\n",
        "cur = conn.cursor()\n",
        "cur.execute(createQuery)\n",
        "cur.close()\n",
        "\n",
        "createStationQuery = \"\"\"CREATE TABLE IF NOT EXISTS STATION (\n",
        "  ID NUMBER PRIMARY KEY,\n",
        "  CITY VARCHAR2(21),\n",
        "  STATE VARCHAR2(2),\n",
        "  LAT_N NUMBER,\n",
        "  LONG_W NUMBER\n",
        ");\n",
        "\"\"\"\n",
        "cur = conn.cursor()\n",
        "cur.execute(createStationQuery)\n",
        "cur.close()\n",
        "\n",
        "insertQuery = \"\"\"INSERT INTO STATION(ID, CITY, STATE, LAT_N, LONG_W) \n",
        "                VALUES (12, 'Tokyo', 'TOKYO', 12345, 54321), \n",
        "                (13, 'Kyoto', 'Kyoto', 12345, 54321),\n",
        "                (14, 'Tokyo', 'TOKYO', 12345, 54321),\n",
        "                (157, 'Akito', 'Akito', 12345, 54321);\"\"\"\n",
        "cur = conn.cursor()\n",
        "cur.execute(insertQuery)\n",
        "cur.close()\n",
        "\n",
        "data = pd.read_sql_query(\"\"\"SELECT DISTINCT CITY from STATION \n",
        "WHERE  (CITY LIKE 'a%'\n",
        "        OR CITY LIKE '%e'\n",
        "        OR CITY LIKE '%i' \n",
        "        OR CITY LIKE '%o'\n",
        "        OR CITY LIKE '%u');\"\"\", conn)\n",
        "data.head()"
      ],
      "execution_count": 27,
      "outputs": [
        {
          "output_type": "execute_result",
          "data": {
            "text/html": [
              "<div>\n",
              "<style scoped>\n",
              "    .dataframe tbody tr th:only-of-type {\n",
              "        vertical-align: middle;\n",
              "    }\n",
              "\n",
              "    .dataframe tbody tr th {\n",
              "        vertical-align: top;\n",
              "    }\n",
              "\n",
              "    .dataframe thead th {\n",
              "        text-align: right;\n",
              "    }\n",
              "</style>\n",
              "<table border=\"1\" class=\"dataframe\">\n",
              "  <thead>\n",
              "    <tr style=\"text-align: right;\">\n",
              "      <th></th>\n",
              "      <th>CITY</th>\n",
              "    </tr>\n",
              "  </thead>\n",
              "  <tbody>\n",
              "    <tr>\n",
              "      <th>0</th>\n",
              "      <td>Tokyo</td>\n",
              "    </tr>\n",
              "    <tr>\n",
              "      <th>1</th>\n",
              "      <td>Kyoto</td>\n",
              "    </tr>\n",
              "    <tr>\n",
              "      <th>2</th>\n",
              "      <td>Akito</td>\n",
              "    </tr>\n",
              "  </tbody>\n",
              "</table>\n",
              "</div>"
            ],
            "text/plain": [
              "    CITY\n",
              "0  Tokyo\n",
              "1  Kyoto\n",
              "2  Akito"
            ]
          },
          "metadata": {
            "tags": []
          },
          "execution_count": 27
        }
      ]
    },
    {
      "cell_type": "markdown",
      "metadata": {
        "id": "bNSYroclmsPI",
        "colab_type": "text"
      },
      "source": [
        "##Task 10\n",
        "Query the list of CITY names from STATION which have vowels (i.e., a, e, i, o, and u) as both their first and last characters. Your result cannot contain duplicates.\n",
        "\n",
        "Input Format\n",
        "\n",
        "The STATION table is described as follows:<br>\n",
        "<img src =\"https://s3.amazonaws.com/hr-challenge-images/9336/1449345840-5f0a551030-Station.jpg\">"
      ]
    },
    {
      "cell_type": "code",
      "metadata": {
        "id": "PQZ0Tecam6hD",
        "colab_type": "code",
        "colab": {
          "base_uri": "https://localhost:8080/",
          "height": 511
        },
        "outputId": "59ef8e1e-45ed-4de8-ed68-702b84bd0b08"
      },
      "source": [
        "import sqlite3\n",
        "conn = sqlite3.connect('chinook.db')\n",
        "\n",
        "import pandas as pd\n",
        "\n",
        "createQuery = \"\"\"CREATE TABLE IF NOT EXISTS CITY (\n",
        "  ID NUMBER PRIMARY KEY,\n",
        "  NAME VARCHAR2(17),\n",
        "  COUNTRYCODE VARCHAR2(3),\n",
        "  DISTRICT VARCHAR2(20),\n",
        "  POPULATION NUMBER\n",
        ");\n",
        "\"\"\"\n",
        "cur = conn.cursor()\n",
        "cur.execute(createQuery)\n",
        "cur.close()\n",
        "\n",
        "createStationQuery = \"\"\"CREATE TABLE IF NOT EXISTS STATION (\n",
        "  ID NUMBER PRIMARY KEY,\n",
        "  CITY VARCHAR2(21),\n",
        "  STATE VARCHAR2(2),\n",
        "  LAT_N NUMBER,\n",
        "  LONG_W NUMBER\n",
        ");\n",
        "\"\"\"\n",
        "cur = conn.cursor()\n",
        "cur.execute(createStationQuery)\n",
        "cur.close()\n",
        "\n",
        "insertQuery = \"\"\"INSERT INTO STATION(ID, CITY, STATE, LAT_N, LONG_W) \n",
        "                VALUES (12, 'Tokyo', 'TOKYO', 12345, 54321), \n",
        "                (13, 'Kyoto', 'Kyoto', 12345, 54321),\n",
        "                (14, 'Tokyo', 'TOKYO', 12345, 54321),\n",
        "                (157, 'Akito', 'Akito', 12345, 54321);\"\"\"\n",
        "cur = conn.cursor()\n",
        "cur.execute(insertQuery)\n",
        "cur.close()\n",
        "\n",
        "data = pd.read_sql_query(\"\"\"SELECT DISTINCT CITY from STATION \n",
        "WHERE CITY REGEXP '^[AIUEOaiueo].*[AIUEOaiueo]$';\"\"\", conn)\n",
        "data.head()"
      ],
      "execution_count": 28,
      "outputs": [
        {
          "output_type": "stream",
          "text": [
            "ERROR:root:An unexpected error occurred while tokenizing input\n",
            "The following traceback may be corrupted or invalid\n",
            "The error message is: ('EOF in multi-line string', (1, 49))\n",
            "\n"
          ],
          "name": "stderr"
        },
        {
          "output_type": "error",
          "ename": "DatabaseError",
          "evalue": "ignored",
          "traceback": [
            "\u001b[0;31m---------------------------------------------------------------------------\u001b[0m",
            "\u001b[0;31mOperationalError\u001b[0m                          Traceback (most recent call last)",
            "\u001b[0;32m/usr/local/lib/python3.6/dist-packages/pandas/io/sql.py\u001b[0m in \u001b[0;36mexecute\u001b[0;34m(self, *args, **kwargs)\u001b[0m\n\u001b[1;32m   1585\u001b[0m         \u001b[0;32mtry\u001b[0m\u001b[0;34m:\u001b[0m\u001b[0;34m\u001b[0m\u001b[0;34m\u001b[0m\u001b[0m\n\u001b[0;32m-> 1586\u001b[0;31m             \u001b[0mcur\u001b[0m\u001b[0;34m.\u001b[0m\u001b[0mexecute\u001b[0m\u001b[0;34m(\u001b[0m\u001b[0;34m*\u001b[0m\u001b[0margs\u001b[0m\u001b[0;34m,\u001b[0m \u001b[0;34m**\u001b[0m\u001b[0mkwargs\u001b[0m\u001b[0;34m)\u001b[0m\u001b[0;34m\u001b[0m\u001b[0;34m\u001b[0m\u001b[0m\n\u001b[0m\u001b[1;32m   1587\u001b[0m             \u001b[0;32mreturn\u001b[0m \u001b[0mcur\u001b[0m\u001b[0;34m\u001b[0m\u001b[0;34m\u001b[0m\u001b[0m\n",
            "\u001b[0;31mOperationalError\u001b[0m: no such function: REGEXP",
            "\nThe above exception was the direct cause of the following exception:\n",
            "\u001b[0;31mDatabaseError\u001b[0m                             Traceback (most recent call last)",
            "\u001b[0;32m<ipython-input-28-0a01b9301ab6>\u001b[0m in \u001b[0;36m<module>\u001b[0;34m()\u001b[0m\n\u001b[1;32m     38\u001b[0m \u001b[0;34m\u001b[0m\u001b[0m\n\u001b[1;32m     39\u001b[0m data = pd.read_sql_query(\"\"\"SELECT DISTINCT CITY from STATION \n\u001b[0;32m---> 40\u001b[0;31m WHERE CITY REGEXP '^[AIUEOaiueo].*[AIUEOaiueo]$';\"\"\", conn)\n\u001b[0m\u001b[1;32m     41\u001b[0m \u001b[0mdata\u001b[0m\u001b[0;34m.\u001b[0m\u001b[0mhead\u001b[0m\u001b[0;34m(\u001b[0m\u001b[0;34m)\u001b[0m\u001b[0;34m\u001b[0m\u001b[0;34m\u001b[0m\u001b[0m\n",
            "\u001b[0;32m/usr/local/lib/python3.6/dist-packages/pandas/io/sql.py\u001b[0m in \u001b[0;36mread_sql_query\u001b[0;34m(sql, con, index_col, coerce_float, params, parse_dates, chunksize)\u001b[0m\n\u001b[1;32m    330\u001b[0m         \u001b[0mcoerce_float\u001b[0m\u001b[0;34m=\u001b[0m\u001b[0mcoerce_float\u001b[0m\u001b[0;34m,\u001b[0m\u001b[0;34m\u001b[0m\u001b[0;34m\u001b[0m\u001b[0m\n\u001b[1;32m    331\u001b[0m         \u001b[0mparse_dates\u001b[0m\u001b[0;34m=\u001b[0m\u001b[0mparse_dates\u001b[0m\u001b[0;34m,\u001b[0m\u001b[0;34m\u001b[0m\u001b[0;34m\u001b[0m\u001b[0m\n\u001b[0;32m--> 332\u001b[0;31m         \u001b[0mchunksize\u001b[0m\u001b[0;34m=\u001b[0m\u001b[0mchunksize\u001b[0m\u001b[0;34m,\u001b[0m\u001b[0;34m\u001b[0m\u001b[0;34m\u001b[0m\u001b[0m\n\u001b[0m\u001b[1;32m    333\u001b[0m     )\n\u001b[1;32m    334\u001b[0m \u001b[0;34m\u001b[0m\u001b[0m\n",
            "\u001b[0;32m/usr/local/lib/python3.6/dist-packages/pandas/io/sql.py\u001b[0m in \u001b[0;36mread_query\u001b[0;34m(self, sql, index_col, coerce_float, params, parse_dates, chunksize)\u001b[0m\n\u001b[1;32m   1631\u001b[0m \u001b[0;34m\u001b[0m\u001b[0m\n\u001b[1;32m   1632\u001b[0m         \u001b[0margs\u001b[0m \u001b[0;34m=\u001b[0m \u001b[0m_convert_params\u001b[0m\u001b[0;34m(\u001b[0m\u001b[0msql\u001b[0m\u001b[0;34m,\u001b[0m \u001b[0mparams\u001b[0m\u001b[0;34m)\u001b[0m\u001b[0;34m\u001b[0m\u001b[0;34m\u001b[0m\u001b[0m\n\u001b[0;32m-> 1633\u001b[0;31m         \u001b[0mcursor\u001b[0m \u001b[0;34m=\u001b[0m \u001b[0mself\u001b[0m\u001b[0;34m.\u001b[0m\u001b[0mexecute\u001b[0m\u001b[0;34m(\u001b[0m\u001b[0;34m*\u001b[0m\u001b[0margs\u001b[0m\u001b[0;34m)\u001b[0m\u001b[0;34m\u001b[0m\u001b[0;34m\u001b[0m\u001b[0m\n\u001b[0m\u001b[1;32m   1634\u001b[0m         \u001b[0mcolumns\u001b[0m \u001b[0;34m=\u001b[0m \u001b[0;34m[\u001b[0m\u001b[0mcol_desc\u001b[0m\u001b[0;34m[\u001b[0m\u001b[0;36m0\u001b[0m\u001b[0;34m]\u001b[0m \u001b[0;32mfor\u001b[0m \u001b[0mcol_desc\u001b[0m \u001b[0;32min\u001b[0m \u001b[0mcursor\u001b[0m\u001b[0;34m.\u001b[0m\u001b[0mdescription\u001b[0m\u001b[0;34m]\u001b[0m\u001b[0;34m\u001b[0m\u001b[0;34m\u001b[0m\u001b[0m\n\u001b[1;32m   1635\u001b[0m \u001b[0;34m\u001b[0m\u001b[0m\n",
            "\u001b[0;32m/usr/local/lib/python3.6/dist-packages/pandas/io/sql.py\u001b[0m in \u001b[0;36mexecute\u001b[0;34m(self, *args, **kwargs)\u001b[0m\n\u001b[1;32m   1596\u001b[0m \u001b[0;34m\u001b[0m\u001b[0m\n\u001b[1;32m   1597\u001b[0m             \u001b[0mex\u001b[0m \u001b[0;34m=\u001b[0m \u001b[0mDatabaseError\u001b[0m\u001b[0;34m(\u001b[0m\u001b[0;34mf\"Execution failed on sql '{args[0]}': {exc}\"\u001b[0m\u001b[0;34m)\u001b[0m\u001b[0;34m\u001b[0m\u001b[0;34m\u001b[0m\u001b[0m\n\u001b[0;32m-> 1598\u001b[0;31m             \u001b[0;32mraise\u001b[0m \u001b[0mex\u001b[0m \u001b[0;32mfrom\u001b[0m \u001b[0mexc\u001b[0m\u001b[0;34m\u001b[0m\u001b[0;34m\u001b[0m\u001b[0m\n\u001b[0m\u001b[1;32m   1599\u001b[0m \u001b[0;34m\u001b[0m\u001b[0m\n\u001b[1;32m   1600\u001b[0m     \u001b[0;34m@\u001b[0m\u001b[0mstaticmethod\u001b[0m\u001b[0;34m\u001b[0m\u001b[0;34m\u001b[0m\u001b[0m\n",
            "\u001b[0;31mDatabaseError\u001b[0m: Execution failed on sql 'SELECT DISTINCT CITY from STATION \nWHERE CITY REGEXP '^[AIUEOaiueo].*[AIUEOaiueo]$';': no such function: REGEXP"
          ]
        }
      ]
    },
    {
      "cell_type": "markdown",
      "metadata": {
        "id": "DJT7d3P6nJx9",
        "colab_type": "text"
      },
      "source": [
        "#Python"
      ]
    },
    {
      "cell_type": "markdown",
      "metadata": {
        "id": "6IwVOztbngOn",
        "colab_type": "text"
      },
      "source": [
        "##Task 1\n",
        "Task\n",
        "Given an integer, perform the following conditional actions:\n",
        "\n",
        "* If n is odd, print `Weird`\n",
        "* If n is even and in the inclusive range of 2 to 5, print `Not Weird`\n",
        "* If n is even and in the inclusive range of 6 to 20, print `Weird`\n",
        "* If n is even and greater than 20, print `Not Weird`\n",
        "\n",
        "Input Format\n",
        "\n",
        "A single line containing a positive integer\n",
        "\n",
        "Output Format\n",
        "\n",
        "Print Weird if the number is weird; otherwise, print Not Weird."
      ]
    },
    {
      "cell_type": "code",
      "metadata": {
        "id": "1BfL6RuLoXFl",
        "colab_type": "code",
        "colab": {
          "base_uri": "https://localhost:8080/",
          "height": 51
        },
        "outputId": "7f7eb88b-b3f3-4324-92b6-622719b9158a"
      },
      "source": [
        "if __name__ == '__main__':\n",
        "    n = int(input())\n",
        "    if(n % 2 == 1 or n in range(6, 21)):\n",
        "      print('Weird')\n",
        "    if(n % 2 == 0 and (n in range(2, 5)) or n > 20 ):\n",
        "      print('Not Weird')"
      ],
      "execution_count": 36,
      "outputs": [
        {
          "output_type": "stream",
          "text": [
            "22\n",
            "Not Weird\n"
          ],
          "name": "stdout"
        }
      ]
    },
    {
      "cell_type": "markdown",
      "metadata": {
        "id": "ZozvHrq_o3VH",
        "colab_type": "text"
      },
      "source": [
        "##Task 2\n",
        "Read two integers from STDIN and print three lines where:\n",
        "<ol>\n",
        "  <li>The first line contains the sum of the two numbers.</li>\n",
        "  <li>The second line contains the difference of the two numbers (first - second).</li>\n",
        "  <li>The third line contains the product of the two numbers.</li>\n",
        "</ol>\n",
        "\n",
        "**Input Format**\n",
        "\n",
        "The first line contains the first integer, **a**. The second line contains the second integer, **b**.\n",
        "\n",
        "**Output Format**\n",
        "\n",
        "Print the three lines as explained above."
      ]
    },
    {
      "cell_type": "code",
      "metadata": {
        "id": "W59QuFDUp8A6",
        "colab_type": "code",
        "colab": {
          "base_uri": "https://localhost:8080/",
          "height": 102
        },
        "outputId": "a755ec6f-5643-4a3d-d09d-8925c2f03b1d"
      },
      "source": [
        "if __name__ == '__main__':\n",
        "    a = int(input())\n",
        "    b = int(input())\n",
        "    print(a + b)\n",
        "    print(a - b)\n",
        "    print(a * b)"
      ],
      "execution_count": 37,
      "outputs": [
        {
          "output_type": "stream",
          "text": [
            "2\n",
            "3\n",
            "5\n",
            "-1\n",
            "6\n"
          ],
          "name": "stdout"
        }
      ]
    },
    {
      "cell_type": "markdown",
      "metadata": {
        "id": "nRtP3Qt4qWPW",
        "colab_type": "text"
      },
      "source": [
        "#Task 3\n",
        "Task\n",
        "Read an integer $N$. For all non-negative integers $i<N$ , print $i^{2}$. See the sample for details.\n",
        "\n",
        "Input Format\n",
        "\n",
        "The first and only line contains the integer, $N$ .\n",
        "\n",
        "Constraints<br>\n",
        "$1 \\leq N \\leq i$\n",
        "\n",
        "Output Format\n",
        "\n",
        "Print $N$ lines, one corresponding to each $i$."
      ]
    },
    {
      "cell_type": "code",
      "metadata": {
        "id": "vwwkRd5kqPt6",
        "colab_type": "code",
        "colab": {
          "base_uri": "https://localhost:8080/",
          "height": 102
        },
        "outputId": "2e192f83-e4f1-46d2-c450-785e07ca17d5"
      },
      "source": [
        "if __name__ == '__main__':\n",
        "    n = int(input())\n",
        "    for i in range (1, n):\n",
        "      print (i * i)"
      ],
      "execution_count": 38,
      "outputs": [
        {
          "output_type": "stream",
          "text": [
            "5\n",
            "1\n",
            "4\n",
            "9\n",
            "16\n"
          ],
          "name": "stdout"
        }
      ]
    },
    {
      "cell_type": "markdown",
      "metadata": {
        "id": "6dXblWaxrpaA",
        "colab_type": "text"
      },
      "source": [
        "##Task 4\n",
        "We add a Leap Day on February 29, almost every four years. The leap day is an extra, or intercalary day and we add it to the shortest month of the year, February.<br>\n",
        "\n",
        "In the Gregorian calendar three criteria must be taken into account to identify leap years:\n",
        "<ul>\n",
        "<li>The year can be evenly divided by 4, is a leap year, unless:</li>\n",
        "  <ul><li>The year can be evenly divided by 100, it is NOT a leap year, unless:</li>\n",
        "    <ul><li>The year is also evenly divisible by 400. Then it is a leap year.</li></ul></ul></ul>\n",
        "This means that in the Gregorian calendar, the years 2000 and 2400 are leap years, while 1800, 1900, 2100, 2200, 2300 and 2500 are NOT leap years.Source\n",
        "\n",
        "**Task**<br>\n",
        "<ul>\n",
        "<li>You are given the year, and you have to write a function to check if the year is leap or not.</li>\n",
        "\n",
        "  <li>Note that you have to complete the function and remaining code is given as template.</li>\n",
        "  </ul>\n",
        "\n",
        "**Input Format**\n",
        "\n",
        "Read y, the year that needs to be checked.\n",
        "\n",
        "**Constraints**<br>\n",
        "$1900 \\leq y \\leq 10^{5}$\n",
        "\n",
        "**Output Format**\n",
        "\n",
        "Output is taken care of by the template. Your function must return a boolean value (True/False)\n",
        "\n"
      ]
    },
    {
      "cell_type": "code",
      "metadata": {
        "id": "8W6xXR9NtrUL",
        "colab_type": "code",
        "colab": {}
      },
      "source": [
        "def is_leap(year):\n",
        "  pass\n",
        "  return year % 4 and (year % 100 != 0 or year % 400 == 0)"
      ],
      "execution_count": 42,
      "outputs": []
    },
    {
      "cell_type": "markdown",
      "metadata": {
        "id": "B2WQ4__LrpBZ",
        "colab_type": "text"
      },
      "source": [
        "##Task 5\n",
        "Given the participants' score sheet for your University Sports Day, you are required to find the runner-up score. You are given $n$ scores. Store them in a list and find the score of the runner-up.\n",
        "\n",
        "**Input Format**\n",
        "\n",
        "The first line contains $n$ . The second line contains an array $A[]$ of $n$ integers each separated by a space.\n",
        "\n",
        "**Constraints**<br>\n",
        "$2   \\leq n \\leq 10 $<br>\n",
        "$-100 \\leq A[i] \\leq 100 $\n",
        "\n",
        "Output Format\n",
        "\n",
        "Print the runner-up score."
      ]
    },
    {
      "cell_type": "code",
      "metadata": {
        "id": "xp0z6_EEuwFI",
        "colab_type": "code",
        "colab": {
          "base_uri": "https://localhost:8080/",
          "height": 68
        },
        "outputId": "2ccfbfb0-5d41-455f-d3eb-82e4487c7c8b"
      },
      "source": [
        "if __name__ == '__main__':\n",
        "  n = int(input())\n",
        "  results = list(map(int, input().split()))[:5]\n",
        "  print(sorted(set(results))[-2])"
      ],
      "execution_count": 45,
      "outputs": [
        {
          "output_type": "stream",
          "text": [
            "5\n",
            "1 2 3 4 5 6 7 8 9 10\n",
            "4\n"
          ],
          "name": "stdout"
        }
      ]
    }
  ]
}